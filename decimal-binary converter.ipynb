{
 "cells": [
  {
   "cell_type": "code",
   "execution_count": 70,
   "metadata": {},
   "outputs": [],
   "source": [
    "def deci_binary(n):\n",
    "    if n>=1:\n",
    "        c = []\n",
    "        if(n%2 == 0):\n",
    "            c.append(0)\n",
    "            n = n/2\n",
    "            deci_binary(n)\n",
    "        elif(n%2!=0):\n",
    "            c.append(1)\n",
    "            n = n//2 \n",
    "            deci_binary(n)\n",
    "        elif(n==1):\n",
    "            c.append(1)\n",
    "        for ele in c:\n",
    "            print(ele, end = \"\")"
   ]
  },
  {
   "cell_type": "code",
   "execution_count": 74,
   "metadata": {},
   "outputs": [
    {
     "name": "stdout",
     "output_type": "stream",
     "text": [
      "Give me an element! 62\n",
      "111110"
     ]
    }
   ],
   "source": [
    "n = int(input(\"Give me an element! \"))\n",
    "deci_binary(n)"
   ]
  },
  {
   "cell_type": "code",
   "execution_count": 19,
   "metadata": {},
   "outputs": [
    {
     "name": "stdout",
     "output_type": "stream",
     "text": [
      "[]\n",
      "[1]\n",
      "[1]\n",
      "[1]\n"
     ]
    }
   ],
   "source": [
    "c = deci_binary(n)"
   ]
  },
  {
   "cell_type": "code",
   "execution_count": null,
   "metadata": {},
   "outputs": [],
   "source": []
  },
  {
   "cell_type": "code",
   "execution_count": null,
   "metadata": {},
   "outputs": [],
   "source": []
  }
 ],
 "metadata": {
  "kernelspec": {
   "display_name": "Python 3",
   "language": "python",
   "name": "python3"
  }
 },
 "nbformat": 4,
 "nbformat_minor": 4
}
