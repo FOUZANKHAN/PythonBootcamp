{
 "cells": [
  {
   "cell_type": "code",
   "execution_count": 5,
   "metadata": {},
   "outputs": [],
   "source": [
    "# STEP 1 this function is for displaying the board\n",
    "def display_board(board):\n",
    "    print(board[7] + ' |' + board[8] + ' |'+board[9])\n",
    "    print('-+-+-')\n",
    "    print(board[4] + ' |' + board[5] + ' |'+board[6])\n",
    "    print('-+-+-')\n",
    "    print(board[1] + ' |' + board[2] + ' |'+board[3])"
   ]
  },
  {
   "cell_type": "code",
   "execution_count": 6,
   "metadata": {},
   "outputs": [
    {
     "name": "stdout",
     "output_type": "stream",
     "text": [
      " | |\n",
      "-+-+-\n",
      " | |\n",
      "-+-+-\n",
      " | |\n"
     ]
    }
   ],
   "source": [
    "test_bd = ['']*10\n",
    "display_board(test_bd)\n",
    "#function test of the step1 function looks good."
   ]
  },
  {
   "cell_type": "code",
   "execution_count": 7,
   "metadata": {},
   "outputs": [],
   "source": [
    "#STEP2Step 2: Write a function that can take in a player input and assign their marker as 'X' or 'O\n",
    "def player_input():\n",
    "    marker = ' '\n",
    "    while marker != 'X' and marker != 'O':#ifinput doesnt match ask again\n",
    "        marker = input('Player 1 choose X or O ')\n",
    "        player1 = marker\n",
    "        if player1 == 'X':\n",
    "            player2 = 'O'\n",
    "        else:\n",
    "            player2 = 'X'\n",
    "            player1 = 'O'\n",
    "    return player1,player2 #returns a tuple of X and O"
   ]
  },
  {
   "cell_type": "code",
   "execution_count": 8,
   "metadata": {},
   "outputs": [
    {
     "name": "stdout",
     "output_type": "stream",
     "text": [
      "Player 1 choose X or OX\n"
     ]
    },
    {
     "data": {
      "text/plain": [
       "('X', 'O')"
      ]
     },
     "execution_count": 8,
     "metadata": {},
     "output_type": "execute_result"
    }
   ],
   "source": [
    "player_input()#test step2 functions"
   ]
  },
  {
   "cell_type": "code",
   "execution_count": 9,
   "metadata": {},
   "outputs": [],
   "source": [
    "#STEP3 Write a function that takes in the board list object, a marker ('X' or 'O'), and a desired position (number 1-9) and assigns it to the board.\n",
    "def place_marker(board,marker,position):\n",
    "    if position not in range(1,10):#incase the position numbr passed isn't in 1-10\n",
    "        return 0\n",
    "    else:\n",
    "        board[position] = marker #assign the marker that position on the board\n",
    "        "
   ]
  },
  {
   "cell_type": "code",
   "execution_count": 11,
   "metadata": {},
   "outputs": [
    {
     "name": "stdout",
     "output_type": "stream",
     "text": [
      " | |\n",
      "-+-+-\n",
      "X | |\n",
      "-+-+-\n",
      " | |\n"
     ]
    }
   ],
   "source": [
    "place_marker(test_bd,'X',4)#occupying position 4 in test_bd by 'X'\n",
    "display_board(test_bd)"
   ]
  },
  {
   "cell_type": "code",
   "execution_count": 13,
   "metadata": {},
   "outputs": [],
   "source": [
    "#step4 wincheck board \n",
    "def win_check(board,mark):\n",
    "    return((board[7] == mark and board[8] == mark and board[9] == mark)or\n",
    "          (board[4] == mark and board[5] == mark and board[6] == mark) or\n",
    "(board[1] == mark and board[2] == mark and board[3] == mark)or\n",
    "(board[7] == mark and board[4] == mark and board[1] == mark)or\n",
    "(board[4] == mark and board[5] == mark and board[6] == mark)or\n",
    "(board[7] == mark and board[4] == mark and board[1] == mark)or\n",
    "(board[8] == mark and board[5] == mark and board[2] == mark)or\n",
    "(board[9] == mark and board[6] == mark and board[3] == mark)or\n",
    "(board[7] == mark and board[5] == mark and board[3] == mark)or\n",
    "(board[9] == mark and board[5] == mark and board[1] == mark))\n",
    "#pretty sure it can be done in a better way but thats what I came up with\n",
    "#when reviewing please remember to change into a better way"
   ]
  },
  {
   "cell_type": "code",
   "execution_count": 14,
   "metadata": {},
   "outputs": [],
   "source": [
    "#step5 return a string with which player goes first\n",
    "import random\n",
    "def choose_first():\n",
    "    first = random.randint(1,2)\n",
    "    return \"Player {}\".format(first)\n",
    "#choose between 1 and 2 and send\n",
    "#the chosen one first and return that string"
   ]
  },
  {
   "cell_type": "code",
   "execution_count": 15,
   "metadata": {},
   "outputs": [
    {
     "data": {
      "text/plain": [
       "'Player 1'"
      ]
     },
     "execution_count": 15,
     "metadata": {},
     "output_type": "execute_result"
    }
   ],
   "source": [
    "choose_first()\n",
    "#test"
   ]
  },
  {
   "cell_type": "code",
   "execution_count": 16,
   "metadata": {},
   "outputs": [],
   "source": [
    "#step 6 space checking a position on returns booleans\n",
    "def space_check(board,position):\n",
    "    if board[position]=='':\n",
    "        return True\n",
    "    else:\n",
    "        return False"
   ]
  },
  {
   "cell_type": "code",
   "execution_count": 17,
   "metadata": {},
   "outputs": [
    {
     "data": {
      "text/plain": [
       "True"
      ]
     },
     "execution_count": 17,
     "metadata": {},
     "output_type": "execute_result"
    }
   ],
   "source": [
    "space_check(test_bd,1)#works fine"
   ]
  },
  {
   "cell_type": "code",
   "execution_count": 20,
   "metadata": {},
   "outputs": [],
   "source": [
    "#step7 a function that checks whether the board is full or empty returns a boolean\n",
    "def full_board_check(board):\n",
    "    for i in range(1,10):\n",
    "        if space_check(board,i):os\n",
    "            return False\n",
    "    return True"
   ]
  },
  {
   "cell_type": "code",
   "execution_count": 21,
   "metadata": {},
   "outputs": [
    {
     "data": {
      "text/plain": [
       "False"
      ]
     },
     "execution_count": 21,
     "metadata": {},
     "output_type": "execute_result"
    }
   ],
   "source": [
    "full_board_check(test_bd)#its not full.(the board)"
   ]
  },
  {
   "cell_type": "code",
   "execution_count": 25,
   "metadata": {},
   "outputs": [],
   "source": [
    "#step8 that asks for players next posiiton betwwen 1-10\n",
    "def player_choice(board):\n",
    "    pos = int(input('Enter the position'))\n",
    "    reply = space_check(board,pos)\n",
    "    if pos in [1,2,3,4,5,6,7,8,9]:\n",
    "        if reply == True:\n",
    "            return pos\n",
    "        else:\n",
    "            return 'invalid position'\n",
    "#ask for a number within that particular range"
   ]
  },
  {
   "cell_type": "code",
   "execution_count": 26,
   "metadata": {},
   "outputs": [],
   "source": [
    "#Step 9 asking to play again?\n",
    "def replay():\n",
    "    ans = input('Would you like to play again?(y/n)')\n",
    "    ans = ans.lower()\n",
    "    if ans == 'y':\n",
    "        return True\n",
    "    else:\n",
    "        return False"
   ]
  },
  {
   "cell_type": "code",
   "execution_count": null,
   "metadata": {},
   "outputs": [
    {
     "name": "stdout",
     "output_type": "stream",
     "text": [
      "Welcome to tictactoe\n",
      "Player 1 choose X or OX\n",
      "Player 2 goes first\n"
     ]
    }
   ],
   "source": [
    "#step 10 writing the actual game code\n",
    "\n",
    "print('Welcome to tictactoe')\n",
    "while True:\n",
    "    myboard = ['']*10\n",
    "    player1_marker, player2_marker = player_input()\n",
    "    turn = choose_first()\n",
    "    print(turn+' goes first')\n",
    "    play_game = input('Are you ready to play?[y/n]')\n",
    "    if play_game == 'Y' or play_game == 'y':\n",
    "        game_on =  True\n",
    "    else:\n",
    "        game_on = False\n",
    "    \n",
    "    while game_on:\n",
    "        if turn == 'Player 1':\n",
    "            display_board(myboard)\n",
    "            position = player_choice(myboard)\n",
    "            place_marker(myboard,player1_marker,position)\n",
    "            \n",
    "            if win_check(myboard,player1_marker):\n",
    "                display_board(myboard)\n",
    "                print('CONGRATULATIONS YOU WON PLAYER1')\n",
    "                game_on = False\n",
    "            else:\n",
    "                if full_board_check(myboard):\n",
    "                    display_board(myboard)\n",
    "                    print('LOOKS LIKE A DRAW!')\n",
    "                    break\n",
    "                else:\n",
    "                    turn = 'Player 2'\n",
    "        else:\n",
    "            display_board(myboard)\n",
    "            position = player_choice(myboard)\n",
    "            place_marker(myboard,player2_marker,position)\n",
    "            if win_check(myboard,player2_marker):\n",
    "                display_board(myboard)\n",
    "                print('CONGRATULATIONS YOU WON PLAYER2')\n",
    "                game_on = False\n",
    "            else:\n",
    "                if full_board_check(myboard):\n",
    "                    display_board(myboard)\n",
    "                    print('LOOKS LIKE A DRAW!')\n",
    "                    break\n",
    "                else:\n",
    "                    turn = 'Player 1'\n",
    "        \n",
    "            \n",
    "           \n",
    "    \n",
    "    if not replay():\n",
    "        break"
   ]
  },
  {
   "cell_type": "code",
   "execution_count": null,
   "metadata": {},
   "outputs": [],
   "source": []
  }
 ],
 "metadata": {
  "kernelspec": {
   "display_name": "Python 3",
   "language": "python",
   "name": "python3"
  },
  "language_info": {
   "codemirror_mode": {
    "name": "ipython",
    "version": 3
   },
   "file_extension": ".py",
   "mimetype": "text/x-python",
   "name": "python",
   "nbconvert_exporter": "python",
   "pygments_lexer": "ipython3",
   "version": "3.6.9"
  }
 },
 "nbformat": 4,
 "nbformat_minor": 4
}
